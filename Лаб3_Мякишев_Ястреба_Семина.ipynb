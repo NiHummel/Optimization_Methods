{
  "nbformat": 4,
  "nbformat_minor": 0,
  "metadata": {
    "colab": {
      "name": "Лаб3_Мякишев_Ястреба_Семина.ipynb",
      "provenance": [],
      "collapsed_sections": []
    },
    "kernelspec": {
      "name": "python3",
      "display_name": "Python 3"
    },
    "language_info": {
      "name": "python"
    }
  },
  "cells": [
    {
      "cell_type": "code",
      "metadata": {
        "id": "ht_bW6Eoh1jX"
      },
      "source": [
        "import numpy as np\n",
        "import pandas as pd\n",
        "import matplotlib.pyplot as plt\n",
        "from scipy.sparse import csr_matrix, csc_matrix"
      ],
      "execution_count": null,
      "outputs": []
    },
    {
      "cell_type": "code",
      "metadata": {
        "id": "DohiV03z35Dp"
      },
      "source": [
        "import warnings\n",
        "warnings.filterwarnings('ignore')"
      ],
      "execution_count": null,
      "outputs": []
    },
    {
      "cell_type": "code",
      "metadata": {
        "id": "jdHRo--Q39q0"
      },
      "source": [
        "# Алгоритм LU-разложения\n",
        "# https://math.wikia.org/ru/wiki/LU-%D1%80%D0%B0%D0%B7%D0%BB%D0%BE%D0%B6%D0%B5%D0%BD%D0%B8%D0%B5\n",
        "def LUdecomposition(A):\n",
        "    n = A.shape[0]\n",
        "    A_csr = csr_matrix(A)\n",
        "    A_csc = A_csr.tocsc()\n",
        "    L, U = csc_matrix(A_csr.shape), csr_matrix(A_csr.shape)\n",
        "    for i in range(n):\n",
        "        for j in range(i, n):\n",
        "            U[0, i] = A_csr[0, i]\n",
        "            L[i, 0] = A_csc[i, 0] / U[0, 0]\n",
        "            t = 0\n",
        "            for k in range(i):\n",
        "                t += L[i, k] * U[k, j]\n",
        "            U[i, j] = A_csr[i, j] - t\n",
        "            if i <= j:\n",
        "                t = 0\n",
        "                for k in range(i):\n",
        "                    t += L[j, k] * U[k, i]\n",
        "                L[j, i] = (A_csc[j, i] - t) / U[i, i]\n",
        "    return L, U"
      ],
      "execution_count": null,
      "outputs": []
    },
    {
      "cell_type": "code",
      "metadata": {
        "id": "7SPz2B-0pZ13"
      },
      "source": [
        "# Метод Гаусса для верхнетреугольной матрицы A\n",
        "def gaussian_method_u(A, b):\n",
        "    n = A.shape[0]\n",
        "    A = A.tocsr()\n",
        "    b = b.copy()\n",
        "    for i in range(n - 1, -1, -1):\n",
        "        for j in range(i + 1, n):\n",
        "            b[i] -= A[i, j] * b[j]\n",
        "            A[i, j] = 0\n",
        "        b[i] /= A[i, i]\n",
        "        A[i, i] = 1\n",
        "    return b\n",
        "\n",
        "\n",
        "#  Метод Гаусса для нижнетреугольной матрицы A\n",
        "def gaussian_method_d(A, b):\n",
        "    n = A.shape[0]\n",
        "    A = A.tocsr()\n",
        "    b = b.copy()\n",
        "    for i in range(n):\n",
        "        for j in range(0, i):\n",
        "            b[i] -= A[i, j] * b[j]\n",
        "            A[i, j] = 0\n",
        "        b[i] /= A[i, i]\n",
        "        A[i, i] = 1\n",
        "    return b"
      ],
      "execution_count": null,
      "outputs": []
    },
    {
      "cell_type": "code",
      "metadata": {
        "id": "uA873DThwfcF"
      },
      "source": [
        "# Алгоритм нахождения обратной матрицы\n",
        "# https://www.cyberforum.ru/post12346418.html\n",
        "def inv_matrix(A):\n",
        "    n = A.shape[0]\n",
        "    L, U = LUdecomposition(A)\n",
        "    Y, A_inv = csc_matrix((n, n)), csc_matrix((n, n))\n",
        "    E = csc_matrix(np.eye(n))\n",
        "    for i in range(n):\n",
        "        Y[:, i] = gaussian_method_d(L.copy(), E[:, i])\n",
        "    for i in range(n):\n",
        "        A_inv[:, i] = gaussian_method_u(U.copy(), Y[:, i])\n",
        "    return A_inv"
      ],
      "execution_count": null,
      "outputs": []
    },
    {
      "cell_type": "code",
      "metadata": {
        "id": "X39TODXre-5B"
      },
      "source": [
        "# Алгоритм решения СЛАУ через LU-разложение\n",
        "# https://ru.wikipedia.org/wiki/LU-%D1%80%D0%B0%D0%B7%D0%BB%D0%BE%D0%B6%D0%B5%D0%BD%D0%B8%D0%B5\n",
        "def solve_SOLA(A, b):\n",
        "    A = A.copy()\n",
        "    b = b.copy()\n",
        "    L, U = LUdecomposition(A)\n",
        "    Y = gaussian_method_d(L.copy(), b)\n",
        "    X = gaussian_method_u(U.copy(), Y)\n",
        "    return X"
      ],
      "execution_count": null,
      "outputs": []
    },
    {
      "cell_type": "code",
      "metadata": {
        "id": "G88vtfWK5Ata"
      },
      "source": [
        "# Итерационный метод Якоби для решения СЛАУ\n",
        "# https://ru.wikipedia.org/wiki/%D0%9C%D0%B5%D1%82%D0%BE%D0%B4_%D0%AF%D0%BA%D0%BE%D0%B1%D0%B8\n",
        "# http://bigor.bmstu.ru/?cnt/?doc=Parallel/ch030203.mod\n",
        "def Yacobi_method(A, b, x=None, eps=1e-6, max_iter=1000):\n",
        "    iter_cnt = 0\n",
        "    n = A.shape[0]\n",
        "    A = A.copy()\n",
        "    b = b.copy()\n",
        "    D, D_inv = csr_matrix((n, n)), csr_matrix((n, n))\n",
        "    if x is None:\n",
        "        x = np.zeros((n))\n",
        "    for i in range(n):\n",
        "        D[i, i] = A[i, i]\n",
        "    B = D - A\n",
        "    for i in range(n):\n",
        "        D_inv[i, i] = 1 / A[i, i]\n",
        "    f1, f2 = True, True\n",
        "    for i in range(n):\n",
        "        if abs(A[i, i]) * 2 <= np.sum(np.abs(A[i, :])):\n",
        "            f1 = False\n",
        "            print('Матрица не является матрицей с диагональным преобладанием')\n",
        "            break\n",
        "    if not (np.allclose(A.toarray(), A.toarray().T) and np.linalg.det((D + B).toarray())):\n",
        "        f2 = False\n",
        "        print('Не выполняется теорема 2')\n",
        "    if f1 == False or f2 == False:\n",
        "        print(f'Метод Якоби может не сойтись, лимит {max_iter} итераций')\n",
        "    while max([abs(b[i] - A[i, :].dot(x)) for i in range(n)]) > eps and iter_cnt < max_iter:\n",
        "        x = D_inv.dot(B.dot(x))+D_inv.dot(b)\n",
        "        iter_cnt += 1\n",
        "    print(f'На нахождение решения СЛАУ с точностью eps={eps} было затрачено {iter_cnt} итераций')\n",
        "    return x"
      ],
      "execution_count": null,
      "outputs": []
    },
    {
      "cell_type": "code",
      "metadata": {
        "id": "BACTU2vviDB8"
      },
      "source": [
        "# Размерность матрицы А\n",
        "n = 5\n",
        "# Максимальное по модулю число в сгенерированной матрице\n",
        "mx = 10"
      ],
      "execution_count": null,
      "outputs": []
    },
    {
      "cell_type": "code",
      "metadata": {
        "colab": {
          "base_uri": "https://localhost:8080/"
        },
        "id": "ubij8zVM3Lkr",
        "outputId": "24a365b1-3be2-4254-d5ce-e8b013d56464"
      },
      "source": [
        "%%time\n",
        "# Проверка на работу LU-разложения\n",
        "A = csr_matrix(np.random.rand(n, n) * 2 * mx - mx)\n",
        "L, U = LUdecomposition(A)\n",
        "if n < 6:\n",
        "    print('A:')\n",
        "    for i in A.toarray():\n",
        "        print(i)\n",
        "    print('\\nLU:')\n",
        "    for i in L.dot(U).toarray():\n",
        "        print(i)\n",
        "    print('\\n')\n",
        "    for i in U.toarray():\n",
        "        print(i)\n",
        "\n",
        "else:\n",
        "    print('Максимальная погрешность вычисления элемента матрицы: |e|=', np.max(np.abs(L.dot(U) - A)))\n",
        "# По свойствам LU-разложения так же det(A) = det(LU) = det(L)*det(U) = det(U)\n",
        "print('\\ndef(A) =', np.linalg.det(A.toarray()))\n",
        "print('def(LU) =', np.linalg.det(L.dot(U).toarray()))\n",
        "print('def(L) * det(U) =', np.linalg.det(L.toarray()) * np.linalg.det(U.toarray()))\n",
        "print('def(U) =', np.linalg.det(U.toarray()))"
      ],
      "execution_count": null,
      "outputs": [
        {
          "output_type": "stream",
          "text": [
            "A:\n",
            "[ 3.21211228 -3.70933933  6.70936719 -4.76601106 -4.32641501]\n",
            "[-1.67660603 -3.03522067  0.85325303 -9.29350304 -2.2180771 ]\n",
            "[ 2.32306217 -9.81249376 -0.0855647  -8.71197781  0.40017894]\n",
            "[ 9.98893543 -2.31093189  2.61009036 -6.70855438 -8.80895889]\n",
            "[-2.67729036  4.85625908  0.88114372  8.73551169 -7.07766015]\n",
            "\n",
            "LU:\n",
            "[ 3.21211228 -3.70933933  6.70936719 -4.76601106 -4.32641501]\n",
            "[-1.67660603 -3.03522067  0.85325303 -9.29350304 -2.2180771 ]\n",
            "[ 2.32306217 -9.81249376 -0.0855647  -8.71197781  0.40017894]\n",
            "[ 9.98893543 -2.31093189  2.61009036 -6.70855438 -8.80895889]\n",
            "[-2.67729036  4.85625908  0.88114372  8.73551169 -7.07766015]\n",
            "\n",
            "\n",
            "[ 3.21211228 -3.70933933  6.70936719 -4.76601106 -4.32641501]\n",
            "[  0.          -4.97136117   4.35529919 -11.78118784  -4.47630871]\n",
            "[  0.           0.         -11.1841932   11.6312395    9.94895947]\n",
            "[  0.           0.           0.         -24.32709371 -12.71024649]\n",
            "[ 0.          0.          0.          0.         -9.80007049]\n",
            "\n",
            "def(A) = 42578.476912846185\n",
            "def(LU) = 42578.476912846185\n",
            "def(L) * det(U) = 42578.47691284616\n",
            "def(U) = 42578.476912846185\n",
            "CPU times: user 23.2 ms, sys: 1 ms, total: 24.2 ms\n",
            "Wall time: 24 ms\n"
          ],
          "name": "stdout"
        }
      ]
    },
    {
      "cell_type": "code",
      "metadata": {
        "colab": {
          "base_uri": "https://localhost:8080/"
        },
        "id": "Edr-vN3M7GvB",
        "outputId": "a8b8cf16-0dfa-4d68-d969-c5f25b60ccab"
      },
      "source": [
        "%%time\n",
        "# Проверка на работу функции нахождения обратной матрицы\n",
        "A = csr_matrix(np.random.rand(n, n) * 2 * mx - mx)\n",
        "if n < 6:\n",
        "    print('Встроенное нахождение обратной матрицы')\n",
        "    for i in np.linalg.inv(A.toarray()):\n",
        "        print(i)\n",
        "    print('\\nРеализованное нахождение обратной матрицы')\n",
        "    for i in inv_matrix(A).toarray():\n",
        "        print(i)\n",
        "    print('\\nПроверка, что действительно найдена обратная матрица (числа меньше 1е-12 приведены к нулю)')\n",
        "    for i in inv_matrix(A).dot(A).toarray():\n",
        "        print(np.array([x if x > 1e-12 else 0 for x in i]))\n",
        "else:\n",
        "    print('\\nПроверка, что действительно найдена обратная матрица')\n",
        "    print('Норма матрицы (A_inv * A - E) = ', np.max(np.abs(inv_matrix(A).dot(A) - np.eye(n))))"
      ],
      "execution_count": null,
      "outputs": [
        {
          "output_type": "stream",
          "text": [
            "Встроенное нахождение обратной матрицы\n",
            "[ 4.20167419 -0.94169328 -2.98859346  4.81436358 -6.36763447]\n",
            "[ -9.67038233   2.12885066   7.05818457 -11.04140382  14.76237038]\n",
            "[-7.46605486  1.61523006  5.39954378 -8.64734717 11.45817491]\n",
            "[ -8.89390749   1.90197714   6.41738232 -10.15776583  13.62485233]\n",
            "[-6.35984301  1.41233989  4.6114061  -7.34039688  9.8508429 ]\n",
            "\n",
            "Реализованное нахождение обратной матрицы\n",
            "[ 4.20167419 -0.94169328 -2.98859346  4.81436358 -6.36763447]\n",
            "[ -9.67038233   2.12885066   7.05818457 -11.04140382  14.76237038]\n",
            "[-7.46605486  1.61523006  5.39954378 -8.64734717 11.45817491]\n",
            "[ -8.89390749   1.90197714   6.41738232 -10.15776583  13.62485233]\n",
            "[-6.35984301  1.41233989  4.6114061  -7.34039688  9.8508429 ]\n",
            "\n",
            "Проверка, что действительно найдена обратная матрица (числа меньше 1е-12 приведены к нулю)\n",
            "[1. 0. 0. 0. 0.]\n",
            "[0. 1. 0. 0. 0.]\n",
            "[0. 0. 1. 0. 0.]\n",
            "[0. 0. 0. 1. 0.]\n",
            "[0. 0. 0. 0. 1.]\n",
            "CPU times: user 288 ms, sys: 109 ms, total: 397 ms\n",
            "Wall time: 287 ms\n"
          ],
          "name": "stdout"
        }
      ]
    },
    {
      "cell_type": "code",
      "metadata": {
        "id": "DjLaQipY5Wdy",
        "colab": {
          "base_uri": "https://localhost:8080/"
        },
        "outputId": "be0d78d1-165f-4c23-c529-dfca4c3c11fa"
      },
      "source": [
        "%%time\n",
        "# Проверка на работу функции решения СЛАУ через LU-разложение\n",
        "A = csr_matrix(np.random.rand(n, n) * 2 * mx - mx)\n",
        "# A[n - 1, :] = np.zeros((n))   # Добавь эту строку, чтобы убедиться, что если ядро меньше размерности  - всё падает \n",
        "b = np.random.rand(n) * 2 * mx - mx\n",
        "ans = solve_SOLA(A, b)\n",
        "if n < 6:\n",
        "    print('Встроенное решение СЛАУ:\\tx = ', np.linalg.solve(A.toarray(), b))\n",
        "    print('Реализованное решение СЛАУ:\\tx = ', ans)\n",
        "    print('b =\\t', b)\n",
        "    print('Ax =\\t', A.dot(ans))\n",
        "else:\n",
        "    print('Норма вектора A*x-b = ', np.max(np.abs(A.dot(ans) - b)))"
      ],
      "execution_count": null,
      "outputs": [
        {
          "output_type": "stream",
          "text": [
            "Норма вектора A*x-b =  1.7754686609805503e-12\n",
            "CPU times: user 3.38 s, sys: 37.1 ms, total: 3.41 s\n",
            "Wall time: 3.4 s\n"
          ],
          "name": "stdout"
        }
      ]
    },
    {
      "cell_type": "code",
      "metadata": {
        "colab": {
          "base_uri": "https://localhost:8080/"
        },
        "id": "Kh0sSGSO7W7q",
        "outputId": "c7a645fc-0e7d-4894-caeb-3251fdff4398"
      },
      "source": [
        "%%time\n",
        "# Проверка на работу функции итерационного решения СЛАУ - метод Якоби\n",
        "A = csr_matrix(np.random.rand(n, n) * 2 * mx - mx)\n",
        "for i in range(n):\n",
        "    sm = 0\n",
        "    for j in range(n):\n",
        "        if i != j:\n",
        "            sm += abs(A[i, j])\n",
        "    A[i, i] = (1 if A[i, i] > 0 else -1) * (sm + 1)\n",
        "# A - матрица с диагональным преобладанием(есть два стула)\n",
        "# eps = 1e-6, начальное приближение - нули\n",
        "# критерий остановки - норма(есть ещё евклидова норма)\n",
        "b = np.random.rand(n) * 2 * mx - mx\n",
        "ans = Yacobi_method(A, b)\n",
        "if n < 6:\n",
        "    print('Встроенное решение СЛАУ:\\tx = ', np.linalg.solve(A.toarray(), b))\n",
        "    print('Реализованное решение СЛАУ:\\tx = ', ans)\n",
        "    print('b =\\t', b)\n",
        "    print('Ax =\\t', A.dot(ans))\n",
        "else:\n",
        "    print('Норма вектора A*x-b = ', np.max(np.abs(A.dot(ans) - b)))"
      ],
      "execution_count": null,
      "outputs": [
        {
          "output_type": "stream",
          "text": [
            "Не выполняется теорема 2\n",
            "Метод Якоби может не сойтись, лимит 1000 итераций\n",
            "На нахождение решения СЛАУ с точностью eps=1e-06 было затрачено 10 итераций\n",
            "Норма вектора A*x-b =  1.8322513151147746e-07\n",
            "CPU times: user 195 ms, sys: 8.13 ms, total: 203 ms\n",
            "Wall time: 188 ms\n"
          ],
          "name": "stdout"
        }
      ]
    },
    {
      "cell_type": "code",
      "metadata": {
        "id": "S7sZ8Zo9DM3T"
      },
      "source": [
        "n = 1000\n",
        "k = 100"
      ],
      "execution_count": null,
      "outputs": []
    },
    {
      "cell_type": "code",
      "metadata": {
        "id": "gJOSjY8BtSv9",
        "colab": {
          "base_uri": "https://localhost:8080/"
        },
        "outputId": "ffa697fc-4903-40c8-d23f-189a70795b3f"
      },
      "source": [
        "%%time\n",
        "# Проверка на работу функции итерационного решения СЛАУ - метод Якоби\n",
        "A = csr_matrix(np.random.rand(n, n) * 2 * mx - mx)\n",
        "for i in range(n):\n",
        "    sm = 0\n",
        "    for j in range(n):\n",
        "        if i != j:\n",
        "            sm += abs(A[i, j])\n",
        "    A[i, i] = (1 if A[i, i] > 0 else -1) * (sm + 1)\n",
        "# A - матрица с диагональным преобладанием(есть два стула)\n",
        "# eps = 1e-6, начальное приближение - нули\n",
        "# критерий остановки - норма(есть ещё евклидова норма)\n",
        "b = A.dot(np.array([i + 1 for i in range(n)]))\n",
        "ans = Yacobi_method(A, b, x=(np.random.rand(n) * 200 - 100),  max_iter=1000)\n",
        "if n < 6:\n",
        "    print('Встроенное решение СЛАУ:\\tx = ', np.linalg.solve(A.toarray(), b))\n",
        "    print('Реализованное решение СЛАУ:\\tx = ', ans)\n",
        "    print('b =\\t', b)\n",
        "    print('Ax =\\t', A.dot(ans))\n",
        "else:\n",
        "    print('Норма вектора A*x-b = ', np.max(np.abs(A.dot(ans) - b)))"
      ],
      "execution_count": null,
      "outputs": [
        {
          "output_type": "stream",
          "text": [
            "Не выполняется теорема 2\n",
            "Метод Якоби может не сойтись, лимит 1000 итераций\n",
            "На нахождение решения СЛАУ с точностью eps=1e-06 было затрачено 9 итераций\n",
            "Норма вектора A*x-b =  4.824250936508179e-07\n",
            "CPU times: user 24.7 s, sys: 106 ms, total: 24.8 s\n",
            "Wall time: 24.8 s\n"
          ],
          "name": "stdout"
        }
      ]
    },
    {
      "cell_type": "code",
      "metadata": {
        "id": "dNH89XDhDVMf"
      },
      "source": [
        "%%time\n",
        "ans = solve_SOLA(A, b)\n",
        "if n < 6:\n",
        "    print('Встроенное решение СЛАУ:\\tx = ', np.linalg.solve(A.toarray(), b))\n",
        "    print('Реализованное решение СЛАУ:\\tx = ', ans)\n",
        "    print('b =\\t', b)\n",
        "    print('Ax =\\t', A.dot(ans))\n",
        "else:\n",
        "    print('Норма вектора A*x-b = ', np.max(np.abs(A.dot(ans) - b)))"
      ],
      "execution_count": null,
      "outputs": []
    },
    {
      "cell_type": "code",
      "metadata": {
        "id": "nddy1wcC7ikx"
      },
      "source": [
        ""
      ],
      "execution_count": null,
      "outputs": []
    },
    {
      "cell_type": "code",
      "metadata": {
        "id": "lmC7CqLMIgU2"
      },
      "source": [
        ""
      ],
      "execution_count": null,
      "outputs": []
    },
    {
      "cell_type": "code",
      "metadata": {
        "id": "sth-pdN8M90V"
      },
      "source": [
        ""
      ],
      "execution_count": null,
      "outputs": []
    },
    {
      "cell_type": "code",
      "metadata": {
        "id": "01WMVh__NDxr"
      },
      "source": [
        ""
      ],
      "execution_count": null,
      "outputs": []
    },
    {
      "cell_type": "code",
      "metadata": {
        "id": "KDMMZFeMNY2N"
      },
      "source": [
        ""
      ],
      "execution_count": null,
      "outputs": []
    }
  ]
}