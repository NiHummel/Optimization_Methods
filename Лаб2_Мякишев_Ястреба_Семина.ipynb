{
  "nbformat": 4,
  "nbformat_minor": 0,
  "metadata": {
    "colab": {
      "name": "Лаб2_Мякишев_Ястреба_Семина.ipynb",
      "provenance": [],
      "collapsed_sections": []
    },
    "kernelspec": {
      "name": "python3",
      "display_name": "Python 3"
    },
    "language_info": {
      "name": "python"
    }
  },
  "cells": [
    {
      "cell_type": "code",
      "metadata": {
        "id": "6eHJ_2ugizLh"
      },
      "source": [
        "import numpy as np\n",
        "import pandas as pd\n",
        "import matplotlib.pyplot as plt\n",
        "from typing import Type\n",
        "from enum import Enum"
      ],
      "execution_count": null,
      "outputs": []
    },
    {
      "cell_type": "code",
      "metadata": {
        "id": "HBYv3FRqi4By"
      },
      "source": [
        "from sympy import *\n",
        "from sympy.parsing.sympy_parser import parse_expr"
      ],
      "execution_count": null,
      "outputs": []
    },
    {
      "cell_type": "code",
      "metadata": {
        "id": "Qf2oomvXi5Th"
      },
      "source": [
        "class function:\n",
        "    def __init__(self, func, num_args):\n",
        "        self.num_args = num_args\n",
        "        self.x = symbols(f'x0:{num_args}')\n",
        "        self.origin = parse_expr(func)\n",
        "        self.lmb = lambdify(self.x, self.origin)\n",
        "        self.nabla = [lambdify(self.x, diff(self.origin, self.x[i])) for i in range(0, num_args)] # вектор функций производных\n",
        "        nb = [diff(self.origin, self.x[i]) for i in range(0, num_args)]\n",
        "        self.hesse = [[lambdify(self.x, diff(nb[i], self.x[j])) for j in range(0, num_args)] for i in range(0, num_args)]\n",
        "    \n",
        "    def grad(self, cur_x): # градиент\n",
        "        cur_x = cur_x.tolist()\n",
        "        return np.array([f(*cur_x) for f in self.nabla])\n",
        "    \n",
        "    def hesse_matrix(self, cur_x): # значение матрицы гессе в точке\n",
        "        cur_x = cur_x.tolist()\n",
        "        return np.array([np.array([f(*cur_x) for f in t]) for t in self.hesse])\n",
        "    \n",
        "    def eval(self, cur_x): # значение функции в точке\n",
        "        cur_x = cur_x.tolist()\n",
        "        return self.lmb(*cur_x)     "
      ],
      "execution_count": null,
      "outputs": []
    },
    {
      "cell_type": "code",
      "metadata": {
        "id": "T5FYynn7i6aN"
      },
      "source": [
        "class plot:\n",
        "    def __init__(self, func, x, y):\n",
        "        assert func.num_args == 2, 'Only quadratic functions is available'\n",
        "        \n",
        "        self.f = func\n",
        "        self.xlist = np.linspace(*x)\n",
        "        self.ylist = np.linspace(*y)\n",
        "        \n",
        "    def draw(self, history=None, name=''):\n",
        "        X, Y = np.meshgrid(self.xlist, self.ylist)\n",
        "        Z = X.copy()\n",
        "        for i in range(Z.shape[0]):\n",
        "            for j in range(Z.shape[1]):\n",
        "                Z[i][j] = self.f.eval(np.array([X[i][j], Y[i][j]]))\n",
        "        fig,ax=plt.subplots(1,1)\n",
        "        cp = ax.contourf(X, Y, Z)\n",
        "        fig.colorbar(cp)\n",
        "        \n",
        "        if history is not None:\n",
        "            plt.plot(history[:,0], history[:,1], '-ok', color='r')\n",
        "            #for i in range(len(history)):\n",
        "                #plt.text(history[i][0], history[i][1], f'x{i}')\n",
        "        \n",
        "        ax.set_title(name)\n",
        "        ax.set_xlabel('x1')\n",
        "        ax.set_ylabel('x2')\n",
        "        plt.show()"
      ],
      "execution_count": null,
      "outputs": []
    },
    {
      "cell_type": "code",
      "metadata": {
        "id": "3IFDAckii7xC"
      },
      "source": [
        "def golden_ratio_method(l, r, func, eps):\n",
        "    \n",
        "    op, v = l.copy(), r - l\n",
        "    l, r = 0., 1.\n",
        "    x1, x2 = l + (3 - np.sqrt(5)) / 2 * (r - l), r - (3 - np.sqrt(5)) / 2 * (r - l)\n",
        "    y1, y2 = func.eval(op + x1 * v), func.eval(op + x2 * v)\n",
        "    while abs(l - r) > eps:\n",
        "        if y1 < y2:\n",
        "            r, x2, y2 = x2, x1, y1\n",
        "            x1 = l + (3 - np.sqrt(5)) / 2 * (r - l)\n",
        "            y1 = func.eval(op + x1 * v)\n",
        "        else:\n",
        "            l, x1, y1 = x1, x2, y2\n",
        "            x2 = r - (3 - np.sqrt(5)) / 2 * (r - l)\n",
        "            y2 = func.eval(op + x2 * v)\n",
        "\n",
        "    return (r + l) / 2\n",
        "\n",
        "\n",
        "def fibonacci_method(l, r, func, eps):\n",
        "\n",
        "    op, v = l.copy(), r - l\n",
        "    l, r = 0., 1.\n",
        "    \n",
        "    array = [0, 1]\n",
        "    while array[-1] <= (v**2).sum()/eps:\n",
        "        array.append(array[-1] + array[-2])\n",
        "    n = len(array) - 3\n",
        "    if n <= 0:\n",
        "        return (r + l) / 2\n",
        "\n",
        "    x1, x2 = l + array[-3] / array[-1] * (r - l), l + array[-2] / array[-1] * (r - l)\n",
        "    y1, y2 = func.eval(op + x1 * v), func.eval(op + x2 * v)\n",
        "    l0, r0 = l, r\n",
        "\n",
        "    for k in range(2, n + 1):\n",
        "        if y1 < y2:\n",
        "            r, x2, y2 = x2, x1, y1\n",
        "            x1 = l + array[n - k + 1] / array[-1] * (r0 - l0)\n",
        "            y1 = func.eval(op + x1 * v)\n",
        "        else:\n",
        "            l, x1, y1 = x1, x2, y2\n",
        "            x2 = l + array[n - k + 2] / array[-1] * (r0 - l0)\n",
        "            y2 = func.eval(op + x2 * v)\n",
        "\n",
        "    return (r + l) / 2\n",
        "\n",
        "\n",
        "class scheduler_mode(Enum):\n",
        "    static = 0\n",
        "    splitting = 1\n",
        "    golden_ratio = 2\n",
        "    fibonacci = 3\n",
        "\n",
        "\n",
        "class scheduler: # класс, определюящий шаг спуска по заданным данным \n",
        "    def __init__(self, mode: Type[scheduler_mode]=scheduler_mode.static, **kwargs):\n",
        "        self.d = kwargs\n",
        "        self.mode = mode.value\n",
        "        if self.mode == 0:\n",
        "            self.step = self.d['step']\n",
        "        elif self.mode == 1:\n",
        "            self.step = self.d['step']\n",
        "            self.divider = self.d['div']\n",
        "            self.schedule = self.d['schedule']\n",
        "            self.counter = 0\n",
        "        elif self.mode == 2:\n",
        "            self.zero_optimizer = golden_ratio_method\n",
        "        elif self.mode == 3:\n",
        "            self.zero_optimizer = fibonacci_method\n",
        "        \n",
        "    def make_step(self, x, grad, f, eps): # функция, возвращающая множитель для вектора градиента\n",
        "        if self.mode == 0:\n",
        "            return self.step\n",
        "        elif self.mode == 1:\n",
        "            if self.counter == self.schedule:\n",
        "                self.counter = 0\n",
        "                self.step /= self.divider\n",
        "            if abs(f.eval(x) - f.eval(grad)) < eps**0.5:\n",
        "                self.counter += 1\n",
        "            return self.step\n",
        "        elif self.mode in [2, 3]:\n",
        "            return self.zero_optimizer(x, grad, f, eps)\n",
        "        \n",
        "\n",
        "def norm_2(vec):\n",
        "    return sum(vec**2)"
      ],
      "execution_count": null,
      "outputs": []
    },
    {
      "cell_type": "code",
      "metadata": {
        "id": "VUvuTVfdi9IS"
      },
      "source": [
        "def grad_descent(f, x0=None, scheduler=None, eps=1e-9):\n",
        "    \n",
        "    assert scheduler is not None, 'Scheduler argument can not be None'\n",
        "    \n",
        "    if x0 is None:\n",
        "        x0 = np.random.rand(f.num_args) * 20 - 10\n",
        "        \n",
        "    cur_x, prev_x = x0.copy(), x0.copy()\n",
        "    history = [np.hstack((cur_x, f.eval(cur_x)))]\n",
        "    #print(scheduler.mode)\n",
        "    \n",
        "    while True:\n",
        "        prev_x = cur_x.copy()\n",
        "        \n",
        "        grad = f.grad(cur_x)\n",
        "        step = scheduler.make_step(cur_x, cur_x-grad, f, eps)\n",
        "        cur_x -= step * grad\n",
        "        #print(cur_x)\n",
        "        \n",
        "        entry = np.hstack((cur_x, f.eval(cur_x)))\n",
        "        history.append(entry)\n",
        "        \n",
        "        if abs(f.eval(cur_x) - f.eval(prev_x)) < eps:\n",
        "            break\n",
        "        \n",
        "    return np.vstack(history)"
      ],
      "execution_count": null,
      "outputs": []
    },
    {
      "cell_type": "code",
      "metadata": {
        "id": "oUfMhqbpi-1-"
      },
      "source": [
        "def conjugate_grads(f, x0=None, n=None, scheduler=None, eps=1e-9):\n",
        "    assert scheduler is not None, 'Scheduler argument can not be None'\n",
        "    \n",
        "    if n is None:\n",
        "        n = f.num_args\n",
        "        \n",
        "    if x0 is None:\n",
        "        x0 = np.random.rand(f.num_args) * 20 - 10\n",
        "        \n",
        "    cur_x, prev_x = x0.copy(), x0.copy()\n",
        "    history = [np.hstack((cur_x, f.eval(cur_x)))]\n",
        "    i = 0\n",
        "    \n",
        "    while True:\n",
        "        prev_x = cur_x.copy()\n",
        "        \n",
        "        grad = f.grad(cur_x)\n",
        "        \n",
        "        if i == 0 or i == n + 1:\n",
        "            i = 0\n",
        "            p = -grad\n",
        "        else:\n",
        "            p = -grad + beta * p\n",
        "            # p - предыдущее направление шага\n",
        "            # beta - коэффтцтент, с котором пересчитываем новое направление \n",
        "        \n",
        "        step = scheduler.make_step(cur_x, cur_x+p, f, eps)\n",
        "        cur_x += step * p\n",
        "        beta = norm_2(f.grad(cur_x)) / norm_2(f.grad(prev_x))\n",
        "        \n",
        "        entry = np.hstack((cur_x, f.eval(cur_x)))\n",
        "        history.append(entry)\n",
        "            \n",
        "        if abs(f.eval(cur_x) - f.eval(prev_x)) < eps:\n",
        "            break\n",
        "        \n",
        "        i += 1\n",
        "            \n",
        "    return np.vstack(history)"
      ],
      "execution_count": null,
      "outputs": []
    },
    {
      "cell_type": "code",
      "metadata": {
        "id": "d7JUHPe3jAFi"
      },
      "source": [
        "def conjugate_dirs(f, x0=None, alpha=10, scheduler=None, eps=1e-9):\n",
        "    assert scheduler is not None, 'Scheduler argument can not be None'\n",
        "    \n",
        "    n = f.num_args\n",
        "        \n",
        "    if x0 is None:\n",
        "        x0 = np.random.rand(f.num_args) * 20 - 10\n",
        "        \n",
        "    cur_x, prev_x = x0.copy(), x0.copy()\n",
        "    history = [np.hstack((cur_x, f.eval(cur_x)))]\n",
        "    tmp = np.zeros(n)\n",
        "    dirs = []\n",
        "    for i in range(n):\n",
        "        t = tmp.copy()\n",
        "        t[i] = alpha\n",
        "        dirs.append(t.copy())\n",
        "        t[i] = -alpha\n",
        "        dirs.append(t.copy())\n",
        "    \n",
        "    while True:\n",
        "        prev_x = cur_x.copy()\n",
        "        \n",
        "        step = [scheduler.make_step(cur_x, cur_x+p, f, eps) for p in dirs]\n",
        "        ch = np.argmin([f.eval(cur_x+step[i]*dirs[i]) for i in range(2 * n)])\n",
        "        cur_x += step[ch] * dirs[ch]\n",
        "        \n",
        "        entry = np.hstack((cur_x, f.eval(cur_x)))\n",
        "        history.append(entry)\n",
        "            \n",
        "        if abs(f.eval(cur_x) - f.eval(prev_x)) < eps:\n",
        "            break\n",
        "            \n",
        "    return np.vstack(history)"
      ],
      "execution_count": null,
      "outputs": []
    },
    {
      "cell_type": "code",
      "metadata": {
        "id": "KhnxY2z-jBO_"
      },
      "source": [
        "def newton_method(f, x0=None, scheduler=None, eps=1e-9):\n",
        "    #assert scheduler is not None, 'Scheduler argument can not be None'\n",
        "    \n",
        "    n = f.num_args\n",
        "        \n",
        "    if x0 is None:\n",
        "        x0 = np.random.rand(f.num_args) * 20 - 10\n",
        "        \n",
        "    cur_x, prev_x = x0.copy(), x0.copy()\n",
        "    history = [np.hstack((cur_x, f.eval(cur_x)))]\n",
        "    \n",
        "    while True:\n",
        "        prev_x = cur_x.copy()\n",
        "        \n",
        "        p = np.linalg.inv(f.hesse_matrix(x0)).dot(f.grad(x0))\n",
        "        #print(p)\n",
        "        \n",
        "        step = scheduler.make_step(cur_x, cur_x-p, f, eps)\n",
        "        cur_x -= step * p\n",
        "        #cur_x -= p\n",
        "        print(cur_x)\n",
        "        \n",
        "        entry = np.hstack((cur_x, f.eval(cur_x)))\n",
        "        history.append(entry)\n",
        "            \n",
        "        if abs(f.eval(cur_x) - f.eval(prev_x)) < eps:\n",
        "            break\n",
        "            \n",
        "    return np.vstack(history)"
      ],
      "execution_count": null,
      "outputs": []
    },
    {
      "cell_type": "markdown",
      "metadata": {
        "id": "y1AkO36xjESw"
      },
      "source": [
        "# Метод градиентного спуска и наискорейшего спуска"
      ]
    },
    {
      "cell_type": "code",
      "metadata": {
        "id": "QjGO3XAEjCX7",
        "colab": {
          "base_uri": "https://localhost:8080/"
        },
        "outputId": "c3179dbd-af8c-4717-f288-60c84ef97b17"
      },
      "source": [
        "f = function('2*x0**2+5*x1**2+x1*x0', 2)\n",
        "x0 = np.array([-5., 3.])\n",
        "#x0 = np.random.rand(f.num_args) * 20 - 10\n",
        "stepper = [scheduler(scheduler_mode.static, step=1e-5),\n",
        "           scheduler(scheduler_mode.splitting, step=1e-3, schedule=2, div=10),\n",
        "           scheduler(scheduler_mode.golden_ratio),\n",
        "           scheduler(scheduler_mode.fibonacci)]\n",
        "res = [grad_descent(f, x0=x0.copy(), scheduler=x) for x in stepper]\n",
        "[len(res[i]) for i in range(len(res))]"
      ],
      "execution_count": null,
      "outputs": [
        {
          "output_type": "execute_result",
          "data": {
            "text/plain": [
              "[199059, 2132, 18, 18]"
            ]
          },
          "metadata": {
            "tags": []
          },
          "execution_count": 10
        }
      ]
    },
    {
      "cell_type": "markdown",
      "metadata": {
        "id": "jb9jEQ2gjIqV"
      },
      "source": [
        "# Метод сопряженных градиентов\n",
        "Поддерживает в качестве scheduler'а только методы одномерной оптимизации\n"
      ]
    },
    {
      "cell_type": "code",
      "metadata": {
        "colab": {
          "base_uri": "https://localhost:8080/"
        },
        "id": "FV75M0CYjKWc",
        "outputId": "64f736e2-0162-4eb8-a509-fdbfba3582da"
      },
      "source": [
        "#x0 = np.array([100., 100., 100.])\n",
        "stepper = [scheduler(scheduler_mode.golden_ratio),\n",
        "           scheduler(scheduler_mode.fibonacci)]\n",
        "res1 = [conjugate_grads(f, x0=x0.copy(), scheduler=x) for x in stepper]\n",
        "[res1[i][-1] for i in range(len(res1))]"
      ],
      "execution_count": null,
      "outputs": [
        {
          "output_type": "execute_result",
          "data": {
            "text/plain": [
              "[array([ 2.96996074e-10, -6.44088210e-11,  1.78026650e-19]),\n",
              " array([-1.59078804e-10,  2.63009436e-09,  3.42192017e-17])]"
            ]
          },
          "metadata": {
            "tags": []
          },
          "execution_count": 11
        }
      ]
    },
    {
      "cell_type": "markdown",
      "metadata": {
        "id": "KFGTsVQ_jMqp"
      },
      "source": [
        "# Метод сопряженных направлений\n",
        "Поддерживает в качестве scheduler'а только методы одномерной оптимизации"
      ]
    },
    {
      "cell_type": "code",
      "metadata": {
        "colab": {
          "base_uri": "https://localhost:8080/"
        },
        "id": "QbVpSB1qjOYE",
        "outputId": "cdc7d978-767c-4dca-a198-5737c812e602"
      },
      "source": [
        "#x0 = np.array([100., 100., 100.])\n",
        "stepper = [scheduler(scheduler_mode.golden_ratio),\n",
        "           scheduler(scheduler_mode.fibonacci)]\n",
        "res2 = [conjugate_dirs(f, x0=x0.copy(), scheduler=x) for x in stepper]\n",
        "[res2[i][-1] for i in range(len(res2))]"
      ],
      "execution_count": null,
      "outputs": [
        {
          "output_type": "execute_result",
          "data": {
            "text/plain": [
              "[array([-2.91939561e-07,  1.17223497e-06,  6.69890974e-12]),\n",
              " array([-2.92977994e-07,  1.17187615e-06,  6.69480689e-12])]"
            ]
          },
          "metadata": {
            "tags": []
          },
          "execution_count": 12
        }
      ]
    },
    {
      "cell_type": "markdown",
      "metadata": {
        "id": "yLCOq9u4jQc-"
      },
      "source": [
        "# Метод Ньютона"
      ]
    },
    {
      "cell_type": "code",
      "metadata": {
        "colab": {
          "base_uri": "https://localhost:8080/"
        },
        "id": "7DO_XHdsjRmM",
        "outputId": "1de3b293-e481-447c-fef5-25846e39ae7a"
      },
      "source": [
        "stepper = [scheduler(scheduler_mode.golden_ratio),\n",
        "           scheduler(scheduler_mode.fibonacci)]\n",
        "res3 = [newton_method(f, x0=x0.copy(), scheduler=x) for x in stepper]\n",
        "[res3[i][-1] for i in range(len(res3))]"
      ],
      "execution_count": null,
      "outputs": [
        {
          "output_type": "stream",
          "text": [
            "[-1.59398361e-09  9.56390522e-10]\n",
            "[-5.24717575e-17  3.86754423e-16]\n",
            "[-9.37792066e-11  5.62678792e-11]\n",
            "[ 7.59875513e-16 -1.00653940e-16]\n"
          ],
          "name": "stdout"
        },
        {
          "output_type": "execute_result",
          "data": {
            "text/plain": [
              "[array([-5.24717575e-17,  3.86754423e-16,  7.33107803e-31]),\n",
              " array([ 7.59875513e-16, -1.00653940e-16,  1.12899321e-30])]"
            ]
          },
          "metadata": {
            "tags": []
          },
          "execution_count": 13
        }
      ]
    },
    {
      "cell_type": "code",
      "metadata": {
        "colab": {
          "base_uri": "https://localhost:8080/",
          "height": 312
        },
        "id": "EO73f9kBYk3e",
        "outputId": "26fce50a-4825-45ae-a4ed-6ffa5f8ef963"
      },
      "source": [
        "trr = plot(f, (-10, 10, 200), (-10, 10, 200))\n",
        "history = res[3]\n",
        "trr.draw(history=history, name='2*x0**2+5*x1**2+x1*x0')\n",
        "print(len(history))"
      ],
      "execution_count": null,
      "outputs": [
        {
          "output_type": "display_data",
          "data": {
            "image/png": "[encoded data removed]",
            "text/plain": [
              "<Figure size 432x288 with 2 Axes>"
            ]
          },
          "metadata": {
            "tags": [],
            "needs_background": "light"
          }
        },
        {
          "output_type": "stream",
          "text": [
            "18\n"
          ],
          "name": "stdout"
        }
      ]
    },
    {
      "cell_type": "markdown",
      "metadata": {
        "id": "TV12ltHhrFyF"
      },
      "source": [
        "# Графики"
      ]
    },
    {
      "cell_type": "code",
      "metadata": {
        "id": "nqQFXDNOjPxz",
        "colab": {
          "base_uri": "https://localhost:8080/",
          "height": 312
        },
        "outputId": "b507910d-3cb7-44d9-8cd3-72bb41feacab"
      },
      "source": [
        "func_const = '2*x0**2+5*x1**2+x1*x0'\n",
        "ff = function(func_const, 2)\n",
        "trr = plot(ff, (-10, 10, 200), (-10, 10, 200))\n",
        "#x0 = np.array([-7.5, 5])\n",
        "stepper = scheduler(scheduler_mode.fibonacci)\n",
        "history = grad_descent(ff, x0=x0.copy(), scheduler=stepper)\n",
        "trr.draw(history=history, name=func_const)\n",
        "print(len(history))"
      ],
      "execution_count": null,
      "outputs": [
        {
          "output_type": "display_data",
          "data": {
            "image/png": "[encoded data removed]",
            "text/plain": [
              "<Figure size 432x288 with 2 Axes>"
            ]
          },
          "metadata": {
            "tags": [],
            "needs_background": "light"
          }
        },
        {
          "output_type": "stream",
          "text": [
            "18\n"
          ],
          "name": "stdout"
        }
      ]
    },
    {
      "cell_type": "code",
      "metadata": {
        "id": "ETLvwZW7jMLI",
        "colab": {
          "base_uri": "https://localhost:8080/",
          "height": 312
        },
        "outputId": "22dbf563-e980-4b26-967e-6fbb81a3b282"
      },
      "source": [
        "stepper = scheduler(scheduler_mode.golden_ratio)\n",
        "history = conjugate_grads(ff, x0=x0.copy(), scheduler=stepper)\n",
        "trr.draw(history=history, name=func_const)\n",
        "print(len(history))"
      ],
      "execution_count": null,
      "outputs": [
        {
          "output_type": "display_data",
          "data": {
            "image/png": "[encoded data removed]",
            "text/plain": [
              "<Figure size 432x288 with 2 Axes>"
            ]
          },
          "metadata": {
            "tags": [],
            "needs_background": "light"
          }
        },
        {
          "output_type": "stream",
          "text": [
            "4\n"
          ],
          "name": "stdout"
        }
      ]
    },
    {
      "cell_type": "code",
      "metadata": {
        "id": "K1cuYdtljIMb",
        "colab": {
          "base_uri": "https://localhost:8080/",
          "height": 312
        },
        "outputId": "1f0685e2-69dc-44c6-b5e0-f2f5f10eb112"
      },
      "source": [
        "stepper = scheduler(scheduler_mode.golden_ratio)\n",
        "history = conjugate_dirs(ff, x0=x0.copy(), scheduler=stepper)\n",
        "trr.draw(history=history, name=func_const)\n",
        "print(len(history))"
      ],
      "execution_count": null,
      "outputs": [
        {
          "output_type": "display_data",
          "data": {
            "image/png": "[encoded data removed]",
            "text/plain": [
              "<Figure size 432x288 with 2 Axes>"
            ]
          },
          "metadata": {
            "tags": [],
            "needs_background": "light"
          }
        },
        {
          "output_type": "stream",
          "text": [
            "10\n"
          ],
          "name": "stdout"
        }
      ]
    },
    {
      "cell_type": "code",
      "metadata": {
        "id": "mdBWl1BijX3n",
        "colab": {
          "base_uri": "https://localhost:8080/",
          "height": 347
        },
        "outputId": "56e9e845-45c8-409f-ab28-2a18a9d484d7"
      },
      "source": [
        "stepper = scheduler(scheduler_mode.golden_ratio)\n",
        "history = newton_method(ff, x0=x0.copy(), scheduler=stepper, eps=1e-9)\n",
        "trr.draw(history=history, name=func_const)\n",
        "print(len(history))"
      ],
      "execution_count": null,
      "outputs": [
        {
          "output_type": "stream",
          "text": [
            "[-1.59398361e-09  9.56390522e-10]\n",
            "[-5.24717575e-17  3.86754423e-16]\n"
          ],
          "name": "stdout"
        },
        {
          "output_type": "display_data",
          "data": {
            "image/png": "[encoded data removed]",
            "text/plain": [
              "<Figure size 432x288 with 2 Axes>"
            ]
          },
          "metadata": {
            "tags": [],
            "needs_background": "light"
          }
        },
        {
          "output_type": "stream",
          "text": [
            "3\n"
          ],
          "name": "stdout"
        }
      ]
    },
    {
      "cell_type": "code",
      "metadata": {
        "id": "KTxjIXczjZNZ",
        "colab": {
          "base_uri": "https://localhost:8080/"
        },
        "outputId": "e14518d7-f87b-4543-8df5-16903f47555e"
      },
      "source": [
        "np.linalg.inv(ff.hesse_matrix(x0))"
      ],
      "execution_count": null,
      "outputs": [
        {
          "output_type": "execute_result",
          "data": {
            "text/plain": [
              "array([[ 0.25641026, -0.02564103],\n",
              "       [-0.02564103,  0.1025641 ]])"
            ]
          },
          "metadata": {
            "tags": []
          },
          "execution_count": 19
        }
      ]
    },
    {
      "cell_type": "code",
      "metadata": {
        "id": "ilGoVCb8fojj"
      },
      "source": [
        "def matrix_from_cond(n, cond):\n",
        "    cond_P = cond    # Condition number\n",
        "    log_cond_P = np.log(cond_P)\n",
        "    exp_vec = np.arange(-log_cond_P/4., log_cond_P * (n + 1)/(4 * (n - 1)), log_cond_P/(2.*(n-1)))\n",
        "    s = np.exp(exp_vec[:n])\n",
        "    S = np.diag(s)\n",
        "    U, _ = np.linalg.qr((np.random.rand(n, n) - 5.) * 200)\n",
        "    V, _ = np.linalg.qr((np.random.rand(n, n) - 5.) * 200)\n",
        "    P = U.dot(S).dot(V.T)\n",
        "    P = P.dot(P.T)\n",
        "    return P"
      ],
      "execution_count": null,
      "outputs": []
    },
    {
      "cell_type": "code",
      "metadata": {
        "id": "HrT06rQDoIX1"
      },
      "source": [
        "def matrix_from_cond_(n, cond):\n",
        "    s = np.array(np.random.rand(n) * (cond - 1) + 1)\n",
        "    s[0] = 1\n",
        "    s[1] = k\n",
        "    S = np.diag(s)\n",
        "    return S"
      ],
      "execution_count": null,
      "outputs": []
    },
    {
      "cell_type": "code",
      "metadata": {
        "id": "wp22NXHjptDI",
        "colab": {
          "base_uri": "https://localhost:8080/"
        },
        "outputId": "b2d3d195-c292-4cec-c511-af67a9754da4"
      },
      "source": [
        "ans = np.zeros((10, 10))\n",
        "for n in range(3, 4):\n",
        "  x0 = np.array(np.random.rand(n) * 200 - 100, dtype=np.float128)\n",
        "  p = 0\n",
        "  for k in np.arange(50, 110, 50):\n",
        "    A = matrix_from_cond(n, k)\n",
        "    print(A)\n",
        "    if np.linalg.cond(A) != k:\n",
        "      print(n, k, np.linalg.cond(A))\n",
        "\n",
        "    fx = \"\"\n",
        "    for i in range(0, n):\n",
        "      for j in range(0, n):\n",
        "        fx = ''.join([fx,\"+\", str(A[i][j]), \"*x\", str(i), \"*x\", str(j)])\n",
        "    \n",
        "    f = function(fx, n)\n",
        "    #print(n)\n",
        "    #print(fx[1:])\n",
        "    res = grad_descent(f, x0=x0.copy(), scheduler=scheduler(scheduler_mode.splitting, step=1e-2, schedule=2, div=10))\n",
        "    ans[n - 2, p] = int(len(res))\n",
        "    p = p + 1 \n",
        "print(ans)\n",
        "    "
      ],
      "execution_count": null,
      "outputs": [
        {
          "output_type": "stream",
          "text": [
            "[[ 1.79275735 -2.44729312  0.72829799]\n",
            " [-2.44729312  4.75234143 -2.16815107]\n",
            " [ 0.72829799 -2.16815107  1.66739038]]\n",
            "[[ 5.6257408  -0.91921469 -4.73349665]\n",
            " [-0.91921469  0.76914714  0.25444176]\n",
            " [-4.73349665  0.25444176  4.70511206]]\n",
            "3 100 99.99999999999991\n",
            "[[   0.    0.    0.    0.    0.    0.    0.    0.    0.    0.]\n",
            " [3032. 4125.    0.    0.    0.    0.    0.    0.    0.    0.]\n",
            " [   0.    0.    0.    0.    0.    0.    0.    0.    0.    0.]\n",
            " [   0.    0.    0.    0.    0.    0.    0.    0.    0.    0.]\n",
            " [   0.    0.    0.    0.    0.    0.    0.    0.    0.    0.]\n",
            " [   0.    0.    0.    0.    0.    0.    0.    0.    0.    0.]\n",
            " [   0.    0.    0.    0.    0.    0.    0.    0.    0.    0.]\n",
            " [   0.    0.    0.    0.    0.    0.    0.    0.    0.    0.]\n",
            " [   0.    0.    0.    0.    0.    0.    0.    0.    0.    0.]\n",
            " [   0.    0.    0.    0.    0.    0.    0.    0.    0.    0.]]\n"
          ],
          "name": "stdout"
        }
      ]
    },
    {
      "cell_type": "code",
      "metadata": {
        "colab": {
          "base_uri": "https://localhost:8080/"
        },
        "id": "pOzohGHuVD35",
        "outputId": "62b5319a-f66a-4c1f-e54b-c21b814f6b03"
      },
      "source": [
        "import pandas as pd\n",
        "df1 = pd.DataFrame(np.array(ans, dtype=np.int32)).to_csv(index=False, header=None, sep =\";\")\n",
        "print(df1)\n",
        "print(np.savetxt('output.csv', ans, delimiter=',', fmt='%d'))"
      ],
      "execution_count": null,
      "outputs": [
        {
          "output_type": "stream",
          "text": [
            "5973;5973;5973;5973;5973;5973;5973;5973;5973;5973\n",
            "5890;5890;5890;5889;5889;5889;5889;5889;5889;5889\n",
            "5912;5912;5911;5911;5911;6019;5911;5911;5911;5911\n",
            "5666;4847;4186;4186;4186;4185;5056;4821;4185;4185\n",
            "6057;6119;6045;6042;6042;6066;6042;6042;6042;6042\n",
            "5717;4560;4583;4540;4534;5765;4534;4534;4534;4538\n",
            "5739;5755;5550;5819;5535;5655;5535;5535;5536;5535\n",
            "6060;5592;5579;5836;5497;5497;5647;5518;5497;5497\n",
            "5971;5744;5723;5681;5700;5705;5681;5681;5681;5681\n",
            "6245;6140;6073;6068;6087;6069;6066;6066;6212;6073\n",
            "\n",
            "None\n"
          ],
          "name": "stdout"
        }
      ]
    }
  ]
}